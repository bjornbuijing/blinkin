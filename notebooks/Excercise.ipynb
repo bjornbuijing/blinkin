{
 "cells": [
  {
   "cell_type": "markdown",
   "metadata": {},
   "source": [
    "# Dataset\n",
    "We will explore this dataset: https://archive.ics.uci.edu/ml/datasets/EEG+Eye+State#\n",
    "\n",
    "> All data is from one continuous EEG measurement with the Emotiv EEG Neuroheadset. The duration of the measurement was 117 seconds. The eye state was detected via a camera during the EEG measurement and added later manually to the file after analysing the video frames. '1' indicates the eye-closed and '0' the eye-open state. All values are in chronological order with the first measured value at the top of the data."
   ]
  },
  {
   "cell_type": "code",
   "execution_count": 8,
   "metadata": {},
   "outputs": [
    {
     "name": "stdout",
     "output_type": "stream",
     "text": [
      "The autoreload extension is already loaded. To reload it, use:\n",
      "  %reload_ext autoreload\n"
     ]
    }
   ],
   "source": [
    "%load_ext autoreload\n",
    "%autoreload 2\n",
    "from sys import path\n",
    "import torch\n",
    "import torch.utils.data.dataloader\n",
    "path.append('..')"
   ]
  },
  {
   "cell_type": "code",
   "execution_count": 9,
   "metadata": {},
   "outputs": [],
   "source": [
    "import tensorflow as tf\n",
    "data_dir = \"../../data/raw\"\n",
    "url = \"https://archive.ics.uci.edu/ml/machine-learning-databases/00264/EEG%20Eye%20State.arff\"\n",
    "datapath = tf.keras.utils.get_file(\n",
    "        \"eeg\", origin=url, untar=False, cache_dir=data_dir\n",
    "    )\n",
    "\n",
    "from scipy.io import arff\n",
    "data = arff.loadarff(datapath)\n",
    "    "
   ]
  },
  {
   "cell_type": "code",
   "execution_count": 10,
   "metadata": {},
   "outputs": [
    {
     "data": {
      "text/plain": [
       "tuple"
      ]
     },
     "execution_count": 10,
     "metadata": {},
     "output_type": "execute_result"
    }
   ],
   "source": [
    "type(data)"
   ]
  },
  {
   "cell_type": "code",
   "execution_count": 6,
   "metadata": {},
   "outputs": [
    {
     "name": "stdout",
     "output_type": "stream",
     "text": [
      "Downloading data from https://archive.ics.uci.edu/ml/machine-learning-databases/00264/EEG%20Eye%20State.arff\n",
      "1703936/1696428 [==============================] - 1s 1us/step\n",
      "1712128/1696428 [==============================] - 1s 1us/step\n"
     ]
    },
    {
     "name": "stderr",
     "output_type": "stream",
     "text": [
      "2022-06-05 12:41:54.359 | INFO     | src.data.make_dataset:get_eeg:22 - Data is downloaded to ../data/raw\\datasets\\eeg.\n",
      "2022-06-05 12:41:54.360 | INFO     | src.data.make_dataset:get_eeg_data:29 - ..\\data\\raw\\datasets\\eeg already exists, skipping download\n"
     ]
    }
   ],
   "source": [
    "from src.data.make_dataset import get_eeg\n",
    "datapath = get_eeg(data_dir=\"../data/raw\")\n",
    "path = \"../data/raw\"\n",
    "from src.data.make_dataset import get_eeg_data\n",
    "data = get_eeg_data(datapath)"
   ]
  },
  {
   "cell_type": "markdown",
   "metadata": {},
   "source": [
    "Simple dataset with x/y for prediction of eye status based on a single row of data."
   ]
  },
  {
   "cell_type": "code",
   "execution_count": 20,
   "metadata": {},
   "outputs": [
    {
     "data": {
      "text/plain": [
       "([4327.69,\n",
       "  4006.67,\n",
       "  4295.38,\n",
       "  4156.41,\n",
       "  4336.92,\n",
       "  4583.59,\n",
       "  4096.92,\n",
       "  4630.26,\n",
       "  4207.69,\n",
       "  4222.05,\n",
       "  4206.67,\n",
       "  4282.05,\n",
       "  4628.72,\n",
       "  4389.23],\n",
       " 0)"
      ]
     },
     "execution_count": 20,
     "metadata": {},
     "output_type": "execute_result"
    }
   ],
   "source": [
    "from src.data.make_dataset import eegDataset\n",
    "dsNew = eegDataset(data[0].tolist())\n",
    "x,y = dsNew[2]\n",
    "x,y"
   ]
  },
  {
   "cell_type": "code",
   "execution_count": null,
   "metadata": {},
   "outputs": [],
   "source": []
  },
  {
   "cell_type": "code",
   "execution_count": null,
   "metadata": {},
   "outputs": [
    {
     "ename": "IndexError",
     "evalue": "invalid index to scalar variable.",
     "output_type": "error",
     "traceback": [
      "\u001b[1;31m---------------------------------------------------------------------------\u001b[0m",
      "\u001b[1;31mIndexError\u001b[0m                                Traceback (most recent call last)",
      "\u001b[1;32md:\\School\\Machine learning\\blinkin\\notebooks\\Excercise.ipynb Cell 9'\u001b[0m in \u001b[0;36m<cell line: 2>\u001b[1;34m()\u001b[0m\n\u001b[0;32m      <a href='vscode-notebook-cell:/d%3A/School/Machine%20learning/blinkin/notebooks/Excercise.ipynb#ch0000034?line=0'>1</a>\u001b[0m dsSlice \u001b[39m=\u001b[39m CustomDataset(data\u001b[39m=\u001b[39mdata,horizon\u001b[39m=\u001b[39m\u001b[39m7\u001b[39m)\n\u001b[1;32m----> <a href='vscode-notebook-cell:/d%3A/School/Machine%20learning/blinkin/notebooks/Excercise.ipynb#ch0000034?line=1'>2</a>\u001b[0m dsSlice[\u001b[39m0\u001b[39;49m]\n",
      "\u001b[1;32md:\\School\\Machine learning\\blinkin\\notebooks\\Excercise.ipynb Cell 8'\u001b[0m in \u001b[0;36mCustomDataset.__getitem__\u001b[1;34m(self, idx)\u001b[0m\n\u001b[0;32m     <a href='vscode-notebook-cell:/d%3A/School/Machine%20learning/blinkin/notebooks/Excercise.ipynb#ch0000033?line=13'>14</a>\u001b[0m \u001b[39m# slice off the horizon\u001b[39;00m\n\u001b[0;32m     <a href='vscode-notebook-cell:/d%3A/School/Machine%20learning/blinkin/notebooks/Excercise.ipynb#ch0000033?line=14'>15</a>\u001b[0m x \u001b[39m=\u001b[39m item[idx]\n\u001b[1;32m---> <a href='vscode-notebook-cell:/d%3A/School/Machine%20learning/blinkin/notebooks/Excercise.ipynb#ch0000033?line=15'>16</a>\u001b[0m y \u001b[39m=\u001b[39m item[idx][\u001b[39m14\u001b[39;49m]\u001b[39m.\u001b[39msqueeze(\u001b[39m-\u001b[39m\u001b[39m1\u001b[39m) \u001b[39m# squeeze will remove dimension -1 if possible.\u001b[39;00m\n\u001b[0;32m     <a href='vscode-notebook-cell:/d%3A/School/Machine%20learning/blinkin/notebooks/Excercise.ipynb#ch0000033?line=16'>17</a>\u001b[0m \u001b[39mreturn\u001b[39;00m x, y\n",
      "\u001b[1;31mIndexError\u001b[0m: invalid index to scalar variable."
     ]
    }
   ],
   "source": [
    "dsSlice = CustomDataset(data=data,horizon=7)\n",
    "dsSlice[0]"
   ]
  }
 ],
 "metadata": {
  "interpreter": {
   "hash": "b717f71c673656192d67120db4b173d9f66f897f684497bd1a95a6c53d17ffdb"
  },
  "kernelspec": {
   "display_name": "Python 3.10.4 ('deep-learning-WCNYFuaf-py3.10')",
   "language": "python",
   "name": "python3"
  },
  "language_info": {
   "codemirror_mode": {
    "name": "ipython",
    "version": 3
   },
   "file_extension": ".py",
   "mimetype": "text/x-python",
   "name": "python",
   "nbconvert_exporter": "python",
   "pygments_lexer": "ipython3",
   "version": "3.10.4"
  },
  "orig_nbformat": 4
 },
 "nbformat": 4,
 "nbformat_minor": 2
}

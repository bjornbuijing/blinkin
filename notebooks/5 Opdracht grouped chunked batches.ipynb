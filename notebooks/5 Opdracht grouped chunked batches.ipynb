{
 "cells": [
  {
   "cell_type": "markdown",
   "metadata": {},
   "source": [
    "# Dataset simpel\n",
    "We will explore this dataset: https://archive.ics.uci.edu/ml/datasets/EEG+Eye+State#\n",
    "We will make a dataset and get a simple datareader with data \n",
    "\n"
   ]
  },
  {
   "cell_type": "code",
   "execution_count": 2,
   "metadata": {},
   "outputs": [
    {
     "name": "stderr",
     "output_type": "stream",
     "text": [
      "2022-06-08 11:58:56.151883: W tensorflow/stream_executor/platform/default/dso_loader.cc:64] Could not load dynamic library 'libcudart.so.11.0'; dlerror: libcudart.so.11.0: cannot open shared object file: No such file or directory\n",
      "2022-06-08 11:58:56.151913: I tensorflow/stream_executor/cuda/cudart_stub.cc:29] Ignore above cudart dlerror if you do not have a GPU set up on your machine.\n"
     ]
    }
   ],
   "source": [
    "%load_ext autoreload\n",
    "%autoreload 2\n",
    "from sys import path\n",
    "import tensorflow as tf\n",
    "from scipy.io import arff\n",
    "\n",
    "path.append('..')"
   ]
  },
  {
   "cell_type": "code",
   "execution_count": 3,
   "metadata": {},
   "outputs": [
    {
     "name": "stdout",
     "output_type": "stream",
     "text": [
      "Downloading data from https://archive.ics.uci.edu/ml/machine-learning-databases/00264/EEG%20Eye%20State.arff\n",
      "1703936/1696428 [==============================] - 1s 1us/step\n",
      "1712128/1696428 [==============================] - 1s 1us/step\n"
     ]
    },
    {
     "name": "stderr",
     "output_type": "stream",
     "text": [
      "2022-06-08 11:59:03.969 | INFO     | src.data.make_dataset:get_eeg:27 - Data is downloaded to /tmp/.keras/datasets/eeg.\n",
      "2022-06-08 11:59:03.970 | INFO     | src.data.make_dataset:get_eeg_data:34 - /tmp/.keras/datasets/eeg already exists, skipping download\n"
     ]
    }
   ],
   "source": [
    "from src.data.make_dataset import get_eeg\n",
    "datapath = get_eeg(data_dir=\"../data/raw\")\n",
    "path = \"../data/raw\"\n",
    "from src.data.make_dataset import get_eeg_data\n",
    "data = get_eeg_data(datapath)"
   ]
  },
  {
   "cell_type": "code",
   "execution_count": 102,
   "metadata": {},
   "outputs": [],
   "source": [
    "from src.data.make_grouped_chunked_eeg_data import EEGChunkIterator\n",
    "from src.data.make_eeg_data import EEGListDataset\n",
    "\n",
    "dsNew = EEGListDataset(data=data[0].tolist())\n",
    "dataloader = EEGChunkIterator(dsNew, batchsize=2, horizon=3)\n"
   ]
  },
  {
   "cell_type": "code",
   "execution_count": 109,
   "metadata": {},
   "outputs": [
    {
     "data": {
      "text/plain": [
       "torch.Size([2, 3, 14])"
      ]
     },
     "execution_count": 109,
     "metadata": {},
     "output_type": "execute_result"
    }
   ],
   "source": [
    "# gets mostly even sized chunks of 'batch size' \n",
    "# with the exeption of chunks which end with another Y value\n",
    "# padding not implemented as I do not understand why\n",
    "x = next(iter(dataloader))\n",
    "x.shape"
   ]
  },
  {
   "cell_type": "code",
   "execution_count": 110,
   "metadata": {},
   "outputs": [
    {
     "data": {
      "text/plain": [
       "tensor([4351.7900, 3986.6700, 4264.6200, 4123.5900, 4315.9000, 4597.9500,\n",
       "        4074.3600, 4626.1500, 4207.1800, 4260.0000, 4210.2600, 4304.1000,\n",
       "        4710.2600, 4445.6400], dtype=torch.float64)"
      ]
     },
     "execution_count": 110,
     "metadata": {},
     "output_type": "execute_result"
    }
   ],
   "source": [
    "# with the sliding windows the second window of the first batch \n",
    "# should be the same as the first window of the second batch\n",
    "x[0][1]"
   ]
  },
  {
   "cell_type": "code",
   "execution_count": 111,
   "metadata": {},
   "outputs": [
    {
     "data": {
      "text/plain": [
       "tensor([4351.7900, 3986.6700, 4264.6200, 4123.5900, 4315.9000, 4597.9500,\n",
       "        4074.3600, 4626.1500, 4207.1800, 4260.0000, 4210.2600, 4304.1000,\n",
       "        4710.2600, 4445.6400], dtype=torch.float64)"
      ]
     },
     "execution_count": 111,
     "metadata": {},
     "output_type": "execute_result"
    }
   ],
   "source": [
    "x[1][0]\n",
    "# and this checks out!"
   ]
  },
  {
   "cell_type": "code",
   "execution_count": 105,
   "metadata": {},
   "outputs": [
    {
     "ename": "RuntimeError",
     "evalue": "received an empty list of sequences",
     "output_type": "error",
     "traceback": [
      "\u001b[0;31m---------------------------------------------------------------------------\u001b[0m",
      "\u001b[0;31mRuntimeError\u001b[0m                              Traceback (most recent call last)",
      "\u001b[1;32m/home/mladmin/code/blinkin/notebooks/5 Opdracht grouped chunked batches.ipynb Cell 8'\u001b[0m in \u001b[0;36m<cell line: 1>\u001b[0;34m()\u001b[0m\n\u001b[1;32m      <a href='vscode-notebook-cell://ssh-remote%2Bml-lab-499b0cc0-f0fa-444d-a905-b2d2bead7477.westeurope.cloudapp.azure.com/home/mladmin/code/blinkin/notebooks/5%20Opdracht%20grouped%20chunked%20batches.ipynb#ch0000006vscode-remote?line=0'>1</a>\u001b[0m \u001b[39mfor\u001b[39;00m i \u001b[39min\u001b[39;00m \u001b[39mrange\u001b[39m(\u001b[39m1\u001b[39m,\u001b[39m700\u001b[39m):\n\u001b[0;32m----> <a href='vscode-notebook-cell://ssh-remote%2Bml-lab-499b0cc0-f0fa-444d-a905-b2d2bead7477.westeurope.cloudapp.azure.com/home/mladmin/code/blinkin/notebooks/5%20Opdracht%20grouped%20chunked%20batches.ipynb#ch0000006vscode-remote?line=1'>2</a>\u001b[0m     x \u001b[39m=\u001b[39m \u001b[39mnext\u001b[39;49m(\u001b[39miter\u001b[39;49m(dataloader))\n",
      "File \u001b[0;32m~/code/blinkin/notebooks/../src/data/make_grouped_chunked_eeg_data.py:116\u001b[0m, in \u001b[0;36mEEGChunkIterator.__next__\u001b[0;34m(self)\u001b[0m\n\u001b[1;32m    <a href='file:///home/mladmin/code/blinkin/notebooks/../src/data/make_grouped_chunked_eeg_data.py?line=113'>114</a>\u001b[0m \u001b[39mdef\u001b[39;00m \u001b[39m__next__\u001b[39m(\u001b[39mself\u001b[39m) \u001b[39m-\u001b[39m\u001b[39m>\u001b[39m Tuple[Tensor, Tensor]:\n\u001b[1;32m    <a href='file:///home/mladmin/code/blinkin/notebooks/../src/data/make_grouped_chunked_eeg_data.py?line=114'>115</a>\u001b[0m     \u001b[39mif\u001b[39;00m \u001b[39mself\u001b[39m\u001b[39m.\u001b[39mindex \u001b[39m<\u001b[39m\u001b[39m=\u001b[39m (\u001b[39mlen\u001b[39m(\u001b[39mself\u001b[39m\u001b[39m.\u001b[39mdataset)):\n\u001b[0;32m--> <a href='file:///home/mladmin/code/blinkin/notebooks/../src/data/make_grouped_chunked_eeg_data.py?line=115'>116</a>\u001b[0m         X \u001b[39m=\u001b[39m \u001b[39mself\u001b[39;49m\u001b[39m.\u001b[39;49mbatchloop()  \u001b[39m# noqa N806\u001b[39;00m\n\u001b[1;32m    <a href='file:///home/mladmin/code/blinkin/notebooks/../src/data/make_grouped_chunked_eeg_data.py?line=116'>117</a>\u001b[0m         \u001b[39m# we just want to add padding\u001b[39;00m\n\u001b[1;32m    <a href='file:///home/mladmin/code/blinkin/notebooks/../src/data/make_grouped_chunked_eeg_data.py?line=117'>118</a>\u001b[0m         X_ \u001b[39m=\u001b[39m pad_sequence(X, batch_first\u001b[39m=\u001b[39m\u001b[39mTrue\u001b[39;00m, padding_value\u001b[39m=\u001b[39m\u001b[39m0\u001b[39m)  \u001b[39m# noqa N806\u001b[39;00m\n",
      "File \u001b[0;32m~/code/blinkin/notebooks/../src/data/make_grouped_chunked_eeg_data.py:105\u001b[0m, in \u001b[0;36mEEGChunkIterator.batchloop\u001b[0;34m(self)\u001b[0m\n\u001b[1;32m    <a href='file:///home/mladmin/code/blinkin/notebooks/../src/data/make_grouped_chunked_eeg_data.py?line=102'>103</a>\u001b[0m         \u001b[39melse\u001b[39;00m:\n\u001b[1;32m    <a href='file:///home/mladmin/code/blinkin/notebooks/../src/data/make_grouped_chunked_eeg_data.py?line=103'>104</a>\u001b[0m             \u001b[39mbreak\u001b[39;00m\n\u001b[0;32m--> <a href='file:///home/mladmin/code/blinkin/notebooks/../src/data/make_grouped_chunked_eeg_data.py?line=104'>105</a>\u001b[0m batchlist\u001b[39m.\u001b[39mappend(pad_sequence(horizonlist, batch_first\u001b[39m=\u001b[39;49m\u001b[39mTrue\u001b[39;49;00m, padding_value\u001b[39m=\u001b[39;49m\u001b[39m0\u001b[39;49m)) \u001b[39m# noqa E506\u001b[39;00m\n\u001b[1;32m    <a href='file:///home/mladmin/code/blinkin/notebooks/../src/data/make_grouped_chunked_eeg_data.py?line=105'>106</a>\u001b[0m count \u001b[39m=\u001b[39m count \u001b[39m+\u001b[39m \u001b[39m1\u001b[39m\n\u001b[1;32m    <a href='file:///home/mladmin/code/blinkin/notebooks/../src/data/make_grouped_chunked_eeg_data.py?line=106'>107</a>\u001b[0m \u001b[39mself\u001b[39m\u001b[39m.\u001b[39mindex \u001b[39m=\u001b[39m \u001b[39mself\u001b[39m\u001b[39m.\u001b[39mindex \u001b[39m+\u001b[39m \u001b[39m1\u001b[39m\n",
      "File \u001b[0;32m~/.cache/pypoetry/virtualenvs/deep-learning-E14Cnx23-py3.9/lib/python3.9/site-packages/torch/nn/utils/rnn.py:378\u001b[0m, in \u001b[0;36mpad_sequence\u001b[0;34m(sequences, batch_first, padding_value)\u001b[0m\n\u001b[1;32m    <a href='file:///home/mladmin/.cache/pypoetry/virtualenvs/deep-learning-E14Cnx23-py3.9/lib/python3.9/site-packages/torch/nn/utils/rnn.py?line=373'>374</a>\u001b[0m         sequences \u001b[39m=\u001b[39m sequences\u001b[39m.\u001b[39munbind(\u001b[39m0\u001b[39m)\n\u001b[1;32m    <a href='file:///home/mladmin/.cache/pypoetry/virtualenvs/deep-learning-E14Cnx23-py3.9/lib/python3.9/site-packages/torch/nn/utils/rnn.py?line=375'>376</a>\u001b[0m \u001b[39m# assuming trailing dimensions and type of all the Tensors\u001b[39;00m\n\u001b[1;32m    <a href='file:///home/mladmin/.cache/pypoetry/virtualenvs/deep-learning-E14Cnx23-py3.9/lib/python3.9/site-packages/torch/nn/utils/rnn.py?line=376'>377</a>\u001b[0m \u001b[39m# in sequences are same and fetching those from sequences[0]\u001b[39;00m\n\u001b[0;32m--> <a href='file:///home/mladmin/.cache/pypoetry/virtualenvs/deep-learning-E14Cnx23-py3.9/lib/python3.9/site-packages/torch/nn/utils/rnn.py?line=377'>378</a>\u001b[0m \u001b[39mreturn\u001b[39;00m torch\u001b[39m.\u001b[39;49m_C\u001b[39m.\u001b[39;49m_nn\u001b[39m.\u001b[39;49mpad_sequence(sequences, batch_first, padding_value)\n",
      "\u001b[0;31mRuntimeError\u001b[0m: received an empty list of sequences"
     ]
    }
   ],
   "source": [
    "for i in range(1,700):\n",
    "    x = next(iter(dataloader))"
   ]
  }
 ],
 "metadata": {
  "interpreter": {
   "hash": "16b8f312320cd240106b9ea4d318428341e8727b3c7d5fc1f73cfe4a3d9868ce"
  },
  "kernelspec": {
   "display_name": "Python 3.9.12 ('deep-learning-E14Cnx23-py3.9': poetry)",
   "language": "python",
   "name": "python3"
  },
  "language_info": {
   "codemirror_mode": {
    "name": "ipython",
    "version": 3
   },
   "file_extension": ".py",
   "mimetype": "text/x-python",
   "name": "python",
   "nbconvert_exporter": "python",
   "pygments_lexer": "ipython3",
   "version": "3.9.12"
  },
  "orig_nbformat": 4
 },
 "nbformat": 4,
 "nbformat_minor": 2
}

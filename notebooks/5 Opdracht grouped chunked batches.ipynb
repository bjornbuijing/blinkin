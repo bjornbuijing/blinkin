{
 "cells": [
  {
   "cell_type": "markdown",
   "metadata": {},
   "source": [
    "# Dataset simpel\n",
    "In this notebook we will try to create batched with slices of data.\n",
    "This should bethe final dataform which we will need. \n",
    "We will create a tensort with x timepoints with y slices and z observations (x,y,z)\n",
    "\n"
   ]
  },
  {
   "cell_type": "code",
   "execution_count": 5,
   "metadata": {},
   "outputs": [
    {
     "name": "stdout",
     "output_type": "stream",
     "text": [
      "The autoreload extension is already loaded. To reload it, use:\n",
      "  %reload_ext autoreload\n"
     ]
    }
   ],
   "source": [
    "%load_ext autoreload\n",
    "%autoreload 2\n",
    "from sys import path\n",
    "import tensorflow as tf\n",
    "from scipy.io import arff\n",
    "\n",
    "path.append('..')"
   ]
  },
  {
   "cell_type": "code",
   "execution_count": 6,
   "metadata": {},
   "outputs": [
    {
     "name": "stderr",
     "output_type": "stream",
     "text": [
      "2022-06-09 21:15:53.992 | INFO     | src.data.make_dataset:get_eeg:27 - Data is downloaded to /tmp/.keras/datasets/eeg.\n",
      "2022-06-09 21:15:53.993 | INFO     | src.data.make_dataset:get_eeg_data:34 - /tmp/.keras/datasets/eeg already exists, skipping download\n"
     ]
    }
   ],
   "source": [
    "from src.data.make_dataset import get_eeg\n",
    "datapath = get_eeg(data_dir=\"../data/raw\")\n",
    "path = \"../data/raw\"\n",
    "from src.data.make_dataset import get_eeg_data\n",
    "data = get_eeg_data(datapath)"
   ]
  },
  {
   "cell_type": "markdown",
   "metadata": {},
   "source": [
    "The chunk iterator we use now uses an iterator to get data from the dataset. It will stop when the obervation changes.\n",
    "We will also padding to create symetric datasets.\n"
   ]
  },
  {
   "cell_type": "code",
   "execution_count": 3,
   "metadata": {},
   "outputs": [],
   "source": [
    "from src.data.make_grouped_chunked_eeg_data import EEGChunkIterator\n",
    "from src.data.make_eeg_data import EEGListDataset\n",
    "\n",
    "dsNew = EEGListDataset(data=data[0].tolist())\n",
    "dataloader = EEGChunkIterator(dsNew, batchsize=2, horizon=3)\n"
   ]
  },
  {
   "cell_type": "markdown",
   "metadata": {},
   "source": [
    "We know the data contains 14 observations, with a batchsize of 2 and a horizon of 3 we expect a tensort with the shape [2,3,14]"
   ]
  },
  {
   "cell_type": "code",
   "execution_count": 15,
   "metadata": {},
   "outputs": [
    {
     "data": {
      "text/plain": [
       "torch.Size([2, 3, 14])"
      ]
     },
     "execution_count": 15,
     "metadata": {},
     "output_type": "execute_result"
    }
   ],
   "source": [
    "# gets mostly even sized chunks of 'batch size' \n",
    "\n",
    "x = next(iter(dataloader))\n",
    "x.shape"
   ]
  },
  {
   "cell_type": "markdown",
   "metadata": {},
   "source": [
    "Great success! We get the correct tensor. Not let's check if the slicing is correct"
   ]
  },
  {
   "cell_type": "code",
   "execution_count": 16,
   "metadata": {},
   "outputs": [
    {
     "data": {
      "text/plain": [
       "tensor([4311.2800, 4011.2800, 4265.1300, 4130.2600, 4339.4900, 4583.5900,\n",
       "        4089.7400, 4616.4100, 4200.0000, 4220.5100, 4195.9000, 4265.6400,\n",
       "        4611.2800, 4374.3600], dtype=torch.float64)"
      ]
     },
     "execution_count": 16,
     "metadata": {},
     "output_type": "execute_result"
    }
   ],
   "source": [
    "# with the sliding windows the second window of the first batch \n",
    "# should be the same as the first window of the second batch\n",
    "x[0][1]"
   ]
  },
  {
   "cell_type": "code",
   "execution_count": 17,
   "metadata": {},
   "outputs": [
    {
     "data": {
      "text/plain": [
       "tensor([4311.2800, 4011.2800, 4265.1300, 4130.2600, 4339.4900, 4583.5900,\n",
       "        4089.7400, 4616.4100, 4200.0000, 4220.5100, 4195.9000, 4265.6400,\n",
       "        4611.2800, 4374.3600], dtype=torch.float64)"
      ]
     },
     "execution_count": 17,
     "metadata": {},
     "output_type": "execute_result"
    }
   ],
   "source": [
    "x[1][0]\n",
    "# and this checks out!"
   ]
  },
  {
   "cell_type": "code",
   "execution_count": 20,
   "metadata": {},
   "outputs": [
    {
     "name": "stdout",
     "output_type": "stream",
     "text": [
      "torch.Size([2, 3, 14])\n",
      "torch.Size([2, 3, 14])\n",
      "torch.Size([2, 3, 14])\n",
      "torch.Size([2, 3, 14])\n",
      "torch.Size([2, 3, 14])\n",
      "torch.Size([2, 3, 14])\n",
      "torch.Size([2, 3, 14])\n",
      "torch.Size([2, 3, 14])\n",
      "torch.Size([2, 3, 14])\n",
      "torch.Size([2, 3, 14])\n",
      "torch.Size([2, 3, 14])\n",
      "torch.Size([2, 3, 14])\n"
     ]
    }
   ],
   "source": [
    "for i in range(0,12):\n",
    "    x = next(iter(dataloader))\n",
    "    print(x.shape)"
   ]
  },
  {
   "cell_type": "markdown",
   "metadata": {},
   "source": [
    "All sensors seem to be the right size, so nice.\n",
    "However, we want to improve on the performance by buffering instead of iteration in the next notebook"
   ]
  }
 ],
 "metadata": {
  "interpreter": {
   "hash": "16b8f312320cd240106b9ea4d318428341e8727b3c7d5fc1f73cfe4a3d9868ce"
  },
  "kernelspec": {
   "display_name": "Python 3.9.12 ('deep-learning-E14Cnx23-py3.9': poetry)",
   "language": "python",
   "name": "python3"
  },
  "language_info": {
   "codemirror_mode": {
    "name": "ipython",
    "version": 3
   },
   "file_extension": ".py",
   "mimetype": "text/x-python",
   "name": "python",
   "nbconvert_exporter": "python",
   "pygments_lexer": "ipython3",
   "version": "3.9.12"
  },
  "orig_nbformat": 4
 },
 "nbformat": 4,
 "nbformat_minor": 2
}

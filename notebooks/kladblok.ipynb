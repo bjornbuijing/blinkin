{
 "cells": [
  {
   "cell_type": "markdown",
   "metadata": {},
   "source": [
    "# Dataset\n",
    "We will explore this dataset: https://archive.ics.uci.edu/ml/datasets/EEG+Eye+State#\n",
    "\n",
    "> All data is from one continuous EEG measurement with the Emotiv EEG Neuroheadset. The duration of the measurement was 117 seconds. The eye state was detected via a camera during the EEG measurement and added later manually to the file after analysing the video frames. '1' indicates the eye-closed and '0' the eye-open state. All values are in chronological order with the first measured value at the top of the data."
   ]
  },
  {
   "cell_type": "code",
   "execution_count": 60,
   "metadata": {},
   "outputs": [
    {
     "name": "stdout",
     "output_type": "stream",
     "text": [
      "The autoreload extension is already loaded. To reload it, use:\n",
      "  %reload_ext autoreload\n"
     ]
    }
   ],
   "source": [
    "%load_ext autoreload\n",
    "%autoreload 2\n",
    "from sys import path\n",
    "import torch\n",
    "import torch.utils.data.dataloader\n",
    "import numpy as np\n",
    "path.append('..')"
   ]
  },
  {
   "cell_type": "code",
   "execution_count": 61,
   "metadata": {},
   "outputs": [],
   "source": [
    "import tensorflow as tf\n",
    "data_dir = \"../../data/raw\"\n",
    "url = \"https://archive.ics.uci.edu/ml/machine-learning-databases/00264/EEG%20Eye%20State.arff\"\n",
    "datapath = tf.keras.utils.get_file(\n",
    "        \"eeg\", origin=url, untar=False, cache_dir=data_dir\n",
    "    )\n",
    "\n",
    "from scipy.io import arff\n",
    "data = arff.loadarff(datapath)\n",
    "    "
   ]
  },
  {
   "cell_type": "code",
   "execution_count": 3,
   "metadata": {},
   "outputs": [
    {
     "data": {
      "text/plain": [
       "tuple"
      ]
     },
     "execution_count": 3,
     "metadata": {},
     "output_type": "execute_result"
    }
   ],
   "source": [
    "type(data)"
   ]
  },
  {
   "cell_type": "code",
   "execution_count": 5,
   "metadata": {},
   "outputs": [
    {
     "data": {
      "text/plain": [
       "2"
      ]
     },
     "execution_count": 5,
     "metadata": {},
     "output_type": "execute_result"
    }
   ],
   "source": [
    "len(data)"
   ]
  },
  {
   "cell_type": "code",
   "execution_count": 6,
   "metadata": {},
   "outputs": [
    {
     "data": {
      "text/plain": [
       "(numpy.ndarray, scipy.io.arff._arffread.MetaData)"
      ]
     },
     "execution_count": 6,
     "metadata": {},
     "output_type": "execute_result"
    }
   ],
   "source": [
    "type(data[0]) , type (data[1])"
   ]
  },
  {
   "cell_type": "code",
   "execution_count": 63,
   "metadata": {},
   "outputs": [
    {
     "ename": "TypeError",
     "evalue": "The DTypes <class 'numpy.dtype[int32]'> and <class 'numpy.dtype[void]'> do not have a common DType. For example they cannot be stored in a single array unless the dtype is `object`.",
     "output_type": "error",
     "traceback": [
      "\u001b[1;31m---------------------------------------------------------------------------\u001b[0m",
      "\u001b[1;31mTypeError\u001b[0m                                 Traceback (most recent call last)",
      "\u001b[1;32md:\\School\\Machine learning\\blinkin\\notebooks\\kladblok.ipynb Cell 7'\u001b[0m in \u001b[0;36m<cell line: 8>\u001b[1;34m()\u001b[0m\n\u001b[0;32m      <a href='vscode-notebook-cell:/d%3A/School/Machine%20learning/blinkin/notebooks/kladblok.ipynb#ch0000021?line=4'>5</a>\u001b[0m     \u001b[39melse\u001b[39;00m:\n\u001b[0;32m      <a href='vscode-notebook-cell:/d%3A/School/Machine%20learning/blinkin/notebooks/kladblok.ipynb#ch0000021?line=5'>6</a>\u001b[0m         i[\u001b[39m14\u001b[39m] \u001b[39m=\u001b[39m \u001b[39m'\u001b[39m\u001b[39m1\u001b[39m\u001b[39m'\u001b[39m\n\u001b[1;32m----> <a href='vscode-notebook-cell:/d%3A/School/Machine%20learning/blinkin/notebooks/kladblok.ipynb#ch0000021?line=7'>8</a>\u001b[0m np\u001b[39m.\u001b[39;49mappend(arrData,[\u001b[39m0\u001b[39;49m], axis\u001b[39m=\u001b[39;49m\u001b[39m0\u001b[39;49m)\n",
      "File \u001b[1;32m<__array_function__ internals>:180\u001b[0m, in \u001b[0;36mappend\u001b[1;34m(*args, **kwargs)\u001b[0m\n",
      "File \u001b[1;32md:\\Development tools\\python\\lib\\site-packages\\numpy\\lib\\function_base.py:5392\u001b[0m, in \u001b[0;36mappend\u001b[1;34m(arr, values, axis)\u001b[0m\n\u001b[0;32m   <a href='file:///d%3A/Development%20tools/python/lib/site-packages/numpy/lib/function_base.py?line=5389'>5390</a>\u001b[0m     values \u001b[39m=\u001b[39m ravel(values)\n\u001b[0;32m   <a href='file:///d%3A/Development%20tools/python/lib/site-packages/numpy/lib/function_base.py?line=5390'>5391</a>\u001b[0m     axis \u001b[39m=\u001b[39m arr\u001b[39m.\u001b[39mndim\u001b[39m-\u001b[39m\u001b[39m1\u001b[39m\n\u001b[1;32m-> <a href='file:///d%3A/Development%20tools/python/lib/site-packages/numpy/lib/function_base.py?line=5391'>5392</a>\u001b[0m \u001b[39mreturn\u001b[39;00m concatenate((arr, values), axis\u001b[39m=\u001b[39;49maxis)\n",
      "File \u001b[1;32m<__array_function__ internals>:180\u001b[0m, in \u001b[0;36mconcatenate\u001b[1;34m(*args, **kwargs)\u001b[0m\n",
      "\u001b[1;31mTypeError\u001b[0m: The DTypes <class 'numpy.dtype[int32]'> and <class 'numpy.dtype[void]'> do not have a common DType. For example they cannot be stored in a single array unless the dtype is `object`."
     ]
    }
   ],
   "source": [
    "arrData = data[0]\n",
    "for i in arrData:\n",
    "    if(i[14] == b'0' ):\n",
    "        i[14] = '0'\n",
    "    else:\n",
    "        i[14] = '1'\n",
    "\n",
    "np.append(arrData,[0], axis=0)"
   ]
  },
  {
   "cell_type": "code",
   "execution_count": 66,
   "metadata": {},
   "outputs": [
    {
     "data": {
      "text/plain": [
       "list"
      ]
     },
     "execution_count": 66,
     "metadata": {},
     "output_type": "execute_result"
    }
   ],
   "source": [
    "newdata = data[0].tolist()\n",
    "type(newdata)"
   ]
  },
  {
   "cell_type": "code",
   "execution_count": 78,
   "metadata": {},
   "outputs": [
    {
     "data": {
      "text/plain": [
       "array([[4.328e+03, 4.010e+03, 4.288e+03, ..., 4.636e+03, 4.392e+03,\n",
       "        0.000e+00],\n",
       "       [4.324e+03, 4.004e+03, 4.292e+03, ..., 4.632e+03, 4.384e+03,\n",
       "        0.000e+00],\n",
       "       [4.328e+03, 4.006e+03, 4.296e+03, ..., 4.628e+03, 4.388e+03,\n",
       "        0.000e+00],\n",
       "       ...,\n",
       "       [4.276e+03, 3.990e+03, 4.248e+03, ..., 4.592e+03, 4.340e+03,\n",
       "        1.000e+00],\n",
       "       [4.284e+03, 3.992e+03, 4.252e+03, ..., 4.596e+03, 4.352e+03,\n",
       "        1.000e+00],\n",
       "       [4.288e+03, 3.998e+03, 4.260e+03, ..., 4.596e+03, 4.352e+03,\n",
       "        1.000e+00]], dtype=float16)"
      ]
     },
     "execution_count": 78,
     "metadata": {},
     "output_type": "execute_result"
    }
   ],
   "source": [
    "npdata = np.array(\n",
    "    newdata,\n",
    "    dtype = np.float16\n",
    ")\n",
    "\n",
    "npdata "
   ]
  },
  {
   "cell_type": "code",
   "execution_count": 49,
   "metadata": {},
   "outputs": [
    {
     "data": {
      "text/plain": [
       "array([(4329.23, 4009.23, 4289.23, 4148.21, 4350.26, 4586.15, 4096.92, 4641.03, 4222.05, 4238.46, 4211.28, 4280.51, 4635.9 , 4393.85, b'0'),\n",
       "       (4324.62, 4004.62, 4293.85, 4148.72, 4342.05, 4586.67, 4097.44, 4638.97, 4210.77, 4226.67, 4207.69, 4279.49, 4632.82, 4384.1 , b'0'),\n",
       "       (4327.69, 4006.67, 4295.38, 4156.41, 4336.92, 4583.59, 4096.92, 4630.26, 4207.69, 4222.05, 4206.67, 4282.05, 4628.72, 4389.23, b'0'),\n",
       "       ...,\n",
       "       (4277.44, 3990.77, 4246.67, 4113.85, 4333.33, 4615.38, 4072.82, 4623.59, 4193.33, 4212.82, 4160.51, 4257.95, 4591.79, 4339.49, b'1'),\n",
       "       (4284.62, 3991.79, 4251.28, 4122.05, 4334.36, 4616.41, 4080.51, 4628.72, 4200.  , 4220.  , 4165.64, 4267.18, 4596.41, 4350.77, b'1'),\n",
       "       (4287.69, 3997.44, 4260.  , 4121.03, 4333.33, 4616.41, 4088.72, 4638.46, 4212.31, 4226.67, 4167.69, 4274.36, 4597.95, 4350.77, b'1')],\n",
       "      dtype=[('AF3', '<f8'), ('F7', '<f8'), ('F3', '<f8'), ('FC5', '<f8'), ('T7', '<f8'), ('P7', '<f8'), ('O1', '<f8'), ('O2', '<f8'), ('P8', '<f8'), ('T8', '<f8'), ('FC6', '<f8'), ('F4', '<f8'), ('F8', '<f8'), ('AF4', '<f8'), ('eyeDetection', 'S1')])"
      ]
     },
     "execution_count": 49,
     "metadata": {},
     "output_type": "execute_result"
    }
   ],
   "source": [
    "for i, element in enumerate(data[0]):\n",
    "    if element[14] == b'0':\n",
    "        data[0][i][14] = '0'\n",
    "    else:\n",
    "        data[0][i][14] = '1'\n",
    "data[0]"
   ]
  },
  {
   "cell_type": "code",
   "execution_count": 44,
   "metadata": {},
   "outputs": [
    {
     "data": {
      "text/plain": [
       "tuple"
      ]
     },
     "execution_count": 44,
     "metadata": {},
     "output_type": "execute_result"
    }
   ],
   "source": [
    "type(newdata[0][14])\n"
   ]
  },
  {
   "cell_type": "code",
   "execution_count": 121,
   "metadata": {},
   "outputs": [],
   "source": [
    "import torch\n",
    "import torch.utils.data.dataloader\n",
    "import numpy as np\n",
    "\n",
    "class BaseListDataset:\n",
    "    def __init__(self, data: list , horizon: int):\n",
    "        self.data = data\n",
    "        self.process_data()\n",
    "        self.size = len(data)\n",
    "        self.horizon = horizon\n",
    "    \n",
    "    def __len__(self) -> int:\n",
    "        return self.size\n",
    "    \n",
    "    def __getitem__(self, idx) -> tuple:\n",
    "        x = self.data[:-self.horizon,:]\n",
    "        y = self.data[-self.horizon:,:]\n",
    "        return x, y"
   ]
  },
  {
   "cell_type": "code",
   "execution_count": 125,
   "metadata": {},
   "outputs": [],
   "source": [
    "class EEGListDataset(BaseListDataset):\n",
    "    def process_data(self) -> None:\n",
    "        data = np.array(self.data, dtype=np.float16)\n",
    "        self.data = torch.Tensor(data)"
   ]
  },
  {
   "cell_type": "code",
   "execution_count": 127,
   "metadata": {},
   "outputs": [
    {
     "data": {
      "text/plain": [
       "tensor([[4.3280e+03, 4.0100e+03, 4.2880e+03,  ..., 4.6360e+03, 4.3920e+03,\n",
       "         0.0000e+00],\n",
       "        [4.3240e+03, 4.0040e+03, 4.2920e+03,  ..., 4.6320e+03, 4.3840e+03,\n",
       "         0.0000e+00],\n",
       "        [4.3280e+03, 4.0060e+03, 4.2960e+03,  ..., 4.6280e+03, 4.3880e+03,\n",
       "         0.0000e+00],\n",
       "        ...,\n",
       "        [4.2760e+03, 3.9920e+03, 4.2440e+03,  ..., 4.5920e+03, 4.3320e+03,\n",
       "         1.0000e+00],\n",
       "        [4.2760e+03, 3.9900e+03, 4.2480e+03,  ..., 4.5920e+03, 4.3400e+03,\n",
       "         1.0000e+00],\n",
       "        [4.2840e+03, 3.9920e+03, 4.2520e+03,  ..., 4.5960e+03, 4.3520e+03,\n",
       "         1.0000e+00]])"
      ]
     },
     "execution_count": 127,
     "metadata": {},
     "output_type": "execute_result"
    }
   ],
   "source": [
    "dsNew = EEGListDataset(data=data[0].tolist(),horizon=1)\n",
    "x,y = dsNew[0]\n",
    "x"
   ]
  }
 ],
 "metadata": {
  "interpreter": {
   "hash": "b717f71c673656192d67120db4b173d9f66f897f684497bd1a95a6c53d17ffdb"
  },
  "kernelspec": {
   "display_name": "Python 3.10.4 ('deep-learning-WCNYFuaf-py3.10')",
   "language": "python",
   "name": "python3"
  },
  "language_info": {
   "codemirror_mode": {
    "name": "ipython",
    "version": 3
   },
   "file_extension": ".py",
   "mimetype": "text/x-python",
   "name": "python",
   "nbconvert_exporter": "python",
   "pygments_lexer": "ipython3",
   "version": "3.10.4"
  },
  "orig_nbformat": 4
 },
 "nbformat": 4,
 "nbformat_minor": 2
}

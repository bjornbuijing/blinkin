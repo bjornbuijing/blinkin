{
 "cells": [
  {
   "cell_type": "markdown",
   "metadata": {},
   "source": [
    "# Dataset simpel\n",
    "We will explore this dataset: https://archive.ics.uci.edu/ml/datasets/EEG+Eye+State#\n",
    "We will make a dataset and get a simple datareader with data \n",
    "\n"
   ]
  },
  {
   "cell_type": "code",
   "execution_count": 1,
   "metadata": {},
   "outputs": [
    {
     "name": "stderr",
     "output_type": "stream",
     "text": [
      "2022-06-07 13:20:17.447368: W tensorflow/stream_executor/platform/default/dso_loader.cc:64] Could not load dynamic library 'libcudart.so.11.0'; dlerror: libcudart.so.11.0: cannot open shared object file: No such file or directory\n",
      "2022-06-07 13:20:17.447400: I tensorflow/stream_executor/cuda/cudart_stub.cc:29] Ignore above cudart dlerror if you do not have a GPU set up on your machine.\n"
     ]
    }
   ],
   "source": [
    "%load_ext autoreload\n",
    "%autoreload 2\n",
    "from sys import path\n",
    "import tensorflow as tf\n",
    "from scipy.io import arff\n",
    "\n",
    "path.append('..')"
   ]
  },
  {
   "cell_type": "code",
   "execution_count": 2,
   "metadata": {},
   "outputs": [
    {
     "name": "stderr",
     "output_type": "stream",
     "text": [
      "2022-06-07 13:20:20.240 | INFO     | src.data.make_dataset:get_eeg:27 - Data is downloaded to /tmp/.keras/datasets/eeg.\n",
      "2022-06-07 13:20:20.241 | INFO     | src.data.make_dataset:get_eeg_data:34 - /tmp/.keras/datasets/eeg already exists, skipping download\n"
     ]
    }
   ],
   "source": [
    "from src.data.make_dataset import get_eeg\n",
    "datapath = get_eeg(data_dir=\"../data/raw\")\n",
    "path = \"../data/raw\"\n",
    "from src.data.make_dataset import get_eeg_data\n",
    "data = get_eeg_data(datapath)"
   ]
  },
  {
   "cell_type": "code",
   "execution_count": 3,
   "metadata": {},
   "outputs": [
    {
     "data": {
      "text/plain": [
       "14980"
      ]
     },
     "execution_count": 3,
     "metadata": {},
     "output_type": "execute_result"
    }
   ],
   "source": [
    "# returns data sliced in sliced of 'horizon'\n",
    "from src.data.make_sliced_eeg_data import BaseListSlicedDataset\n",
    "dsNew = BaseListSlicedDataset(data=data[0].tolist(), horizon=3)\n",
    "dsNew.size"
   ]
  },
  {
   "cell_type": "code",
   "execution_count": 4,
   "metadata": {},
   "outputs": [
    {
     "data": {
      "text/plain": [
       "(tensor([[4329.2300, 4009.2300, 4289.2300, 4148.2100, 4350.2598, 4586.1499,\n",
       "          4096.9199, 4641.0298, 4222.0498, 4238.4600, 4211.2798, 4280.5098,\n",
       "          4635.8999, 4393.8501],\n",
       "         [4324.6201, 4004.6201, 4293.8501, 4148.7202, 4342.0498, 4586.6699,\n",
       "          4097.4399, 4638.9702, 4210.7700, 4226.6699, 4207.6899, 4279.4902,\n",
       "          4632.8198, 4384.1001],\n",
       "         [4327.6899, 4006.6699, 4295.3799, 4156.4102, 4336.9199, 4583.5898,\n",
       "          4096.9199, 4630.2598, 4207.6899, 4222.0498, 4206.6699, 4282.0498,\n",
       "          4628.7202, 4389.2300]]),\n",
       " [[0], [0], [0]])"
      ]
     },
     "execution_count": 4,
     "metadata": {},
     "output_type": "execute_result"
    }
   ],
   "source": [
    "dsNew[0]"
   ]
  },
  {
   "cell_type": "code",
   "execution_count": 5,
   "metadata": {},
   "outputs": [
    {
     "data": {
      "text/plain": [
       "(tensor([[4324.6201, 4004.6201, 4293.8501, 4148.7202, 4342.0498, 4586.6699,\n",
       "          4097.4399, 4638.9702, 4210.7700, 4226.6699, 4207.6899, 4279.4902,\n",
       "          4632.8198, 4384.1001],\n",
       "         [4327.6899, 4006.6699, 4295.3799, 4156.4102, 4336.9199, 4583.5898,\n",
       "          4096.9199, 4630.2598, 4207.6899, 4222.0498, 4206.6699, 4282.0498,\n",
       "          4628.7202, 4389.2300],\n",
       "         [4328.7202, 4011.7900, 4296.4102, 4155.8999, 4343.5898, 4582.5601,\n",
       "          4097.4399, 4630.7700, 4217.4399, 4235.3799, 4210.7700, 4287.6899,\n",
       "          4632.3101, 4396.4102]]),\n",
       " [[0], [0], [0]])"
      ]
     },
     "execution_count": 5,
     "metadata": {},
     "output_type": "execute_result"
    }
   ],
   "source": [
    "dsNew[1]"
   ]
  }
 ],
 "metadata": {
  "interpreter": {
   "hash": "16b8f312320cd240106b9ea4d318428341e8727b3c7d5fc1f73cfe4a3d9868ce"
  },
  "kernelspec": {
   "display_name": "Python 3.9.12 ('deep-learning-E14Cnx23-py3.9': poetry)",
   "language": "python",
   "name": "python3"
  },
  "language_info": {
   "codemirror_mode": {
    "name": "ipython",
    "version": 3
   },
   "file_extension": ".py",
   "mimetype": "text/x-python",
   "name": "python",
   "nbconvert_exporter": "python",
   "pygments_lexer": "ipython3",
   "version": "3.9.12"
  },
  "orig_nbformat": 4
 },
 "nbformat": 4,
 "nbformat_minor": 2
}

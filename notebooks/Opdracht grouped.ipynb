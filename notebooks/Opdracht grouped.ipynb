{
 "cells": [
  {
   "cell_type": "markdown",
   "metadata": {},
   "source": [
    "# Dataset simpel\n",
    "We will explore this dataset: https://archive.ics.uci.edu/ml/datasets/EEG+Eye+State#\n",
    "We will make a dataset and get a simple datareader with data \n",
    "\n"
   ]
  },
  {
   "cell_type": "code",
   "execution_count": 1,
   "metadata": {},
   "outputs": [],
   "source": [
    "%load_ext autoreload\n",
    "%autoreload 2\n",
    "from sys import path\n",
    "import tensorflow as tf\n",
    "from scipy.io import arff\n",
    "\n",
    "path.append('..')"
   ]
  },
  {
   "cell_type": "code",
   "execution_count": 2,
   "metadata": {},
   "outputs": [
    {
     "name": "stderr",
     "output_type": "stream",
     "text": [
      "2022-06-07 09:43:25.005 | INFO     | src.data.make_dataset:get_eeg:23 - Data is downloaded to ../data/raw\\datasets\\eeg.\n",
      "2022-06-07 09:43:25.006 | INFO     | src.data.make_dataset:get_eeg_data:30 - ..\\data\\raw\\datasets\\eeg already exists, skipping download\n"
     ]
    }
   ],
   "source": [
    "from src.data.make_dataset import get_eeg\n",
    "datapath = get_eeg(data_dir=\"../data/raw\")\n",
    "path = \"../data/raw\"\n",
    "from src.data.make_dataset import get_eeg_data\n",
    "data = get_eeg_data(datapath)"
   ]
  },
  {
   "cell_type": "code",
   "execution_count": 8,
   "metadata": {},
   "outputs": [
    {
     "ename": "TypeError",
     "evalue": "expected np.ndarray (got list)",
     "output_type": "error",
     "traceback": [
      "\u001b[1;31m---------------------------------------------------------------------------\u001b[0m",
      "\u001b[1;31mTypeError\u001b[0m                                 Traceback (most recent call last)",
      "\u001b[1;32md:\\School\\Machine learning\\blinkin\\notebooks\\Opdracht sliced.ipynb Cell 4'\u001b[0m in \u001b[0;36m<cell line: 3>\u001b[1;34m()\u001b[0m\n\u001b[0;32m      <a href='vscode-notebook-cell:/d%3A/School/Machine%20learning/blinkin/notebooks/Opdracht%20sliced.ipynb#ch0000003?line=0'>1</a>\u001b[0m \u001b[39mfrom\u001b[39;00m \u001b[39msrc\u001b[39;00m\u001b[39m.\u001b[39;00m\u001b[39mdata\u001b[39;00m\u001b[39m.\u001b[39;00m\u001b[39mmake_sliced_eeg_data\u001b[39;00m \u001b[39mimport\u001b[39;00m BaseListSlicedDataset\n\u001b[1;32m----> <a href='vscode-notebook-cell:/d%3A/School/Machine%20learning/blinkin/notebooks/Opdracht%20sliced.ipynb#ch0000003?line=2'>3</a>\u001b[0m dsNew \u001b[39m=\u001b[39m BaseListSlicedDataset(data\u001b[39m=\u001b[39;49mdata[\u001b[39m0\u001b[39;49m]\u001b[39m.\u001b[39;49mtolist(), horizon\u001b[39m=\u001b[39;49m\u001b[39m16\u001b[39;49m)\n\u001b[0;32m      <a href='vscode-notebook-cell:/d%3A/School/Machine%20learning/blinkin/notebooks/Opdracht%20sliced.ipynb#ch0000003?line=3'>4</a>\u001b[0m dsNew\u001b[39m.\u001b[39msize\n",
      "File \u001b[1;32md:\\School\\Machine learning\\blinkin\\notebooks\\..\\src\\data\\make_sliced_eeg_data.py:15\u001b[0m, in \u001b[0;36mBaseListSlicedDataset.__init__\u001b[1;34m(self, data, horizon)\u001b[0m\n\u001b[0;32m     <a href='file:///d%3A/School/Machine%20learning/blinkin/notebooks/../src/data/make_sliced_eeg_data.py?line=12'>13</a>\u001b[0m \u001b[39mself\u001b[39m\u001b[39m.\u001b[39mdataset \u001b[39m=\u001b[39m torch\u001b[39m.\u001b[39mtensor\n\u001b[0;32m     <a href='file:///d%3A/School/Machine%20learning/blinkin/notebooks/../src/data/make_sliced_eeg_data.py?line=13'>14</a>\u001b[0m \u001b[39mself\u001b[39m\u001b[39m.\u001b[39mhorizon \u001b[39m=\u001b[39m horizon\n\u001b[1;32m---> <a href='file:///d%3A/School/Machine%20learning/blinkin/notebooks/../src/data/make_sliced_eeg_data.py?line=14'>15</a>\u001b[0m \u001b[39mself\u001b[39;49m\u001b[39m.\u001b[39;49mprocess_data()\n\u001b[0;32m     <a href='file:///d%3A/School/Machine%20learning/blinkin/notebooks/../src/data/make_sliced_eeg_data.py?line=15'>16</a>\u001b[0m \u001b[39mself\u001b[39m\u001b[39m.\u001b[39msize \u001b[39m=\u001b[39m \u001b[39mlen\u001b[39m(\u001b[39mself\u001b[39m\u001b[39m.\u001b[39mdataset)\n",
      "File \u001b[1;32md:\\School\\Machine learning\\blinkin\\notebooks\\..\\src\\data\\make_sliced_eeg_data.py:19\u001b[0m, in \u001b[0;36mBaseListSlicedDataset.process_data\u001b[1;34m(self)\u001b[0m\n\u001b[0;32m     <a href='file:///d%3A/School/Machine%20learning/blinkin/notebooks/../src/data/make_sliced_eeg_data.py?line=17'>18</a>\u001b[0m \u001b[39mdef\u001b[39;00m \u001b[39mprocess_data\u001b[39m(\u001b[39mself\u001b[39m) \u001b[39m-\u001b[39m\u001b[39m>\u001b[39m \u001b[39mNone\u001b[39;00m:\n\u001b[1;32m---> <a href='file:///d%3A/School/Machine%20learning/blinkin/notebooks/../src/data/make_sliced_eeg_data.py?line=18'>19</a>\u001b[0m     \u001b[39mself\u001b[39m\u001b[39m.\u001b[39mdataset \u001b[39m=\u001b[39m torch\u001b[39m.\u001b[39;49mfrom_numpy(\u001b[39mself\u001b[39;49m\u001b[39m.\u001b[39;49mdata)\n",
      "\u001b[1;31mTypeError\u001b[0m: expected np.ndarray (got list)"
     ]
    }
   ],
   "source": [
    "from src.data.make_sliced_eeg_data import BaseListSlicedDataset\n",
    "\n",
    "dsNew = BaseListSlicedDataset(data=data[0].tolist(), horizon=16)\n",
    "dsNew.size"
   ]
  },
  {
   "cell_type": "code",
   "execution_count": 6,
   "metadata": {},
   "outputs": [
    {
     "name": "stdout",
     "output_type": "stream",
     "text": [
      "<class 'int'>\n",
      "<class 'list'>\n"
     ]
    },
    {
     "ename": "TypeError",
     "evalue": "list indices must be integers or slices, not tuple",
     "output_type": "error",
     "traceback": [
      "\u001b[1;31m---------------------------------------------------------------------------\u001b[0m",
      "\u001b[1;31mTypeError\u001b[0m                                 Traceback (most recent call last)",
      "\u001b[1;32md:\\School\\Machine learning\\blinkin\\notebooks\\Opdracht sliced.ipynb Cell 5'\u001b[0m in \u001b[0;36m<cell line: 1>\u001b[1;34m()\u001b[0m\n\u001b[1;32m----> <a href='vscode-notebook-cell:/d%3A/School/Machine%20learning/blinkin/notebooks/Opdracht%20sliced.ipynb#ch0000004?line=0'>1</a>\u001b[0m dsNew[\u001b[39m3\u001b[39;49m]\n",
      "File \u001b[1;32md:\\School\\Machine learning\\blinkin\\notebooks\\..\\src\\data\\make_sliced_eeg_data.py:35\u001b[0m, in \u001b[0;36mBaseListSlicedDataset.__getitem__\u001b[1;34m(self, idx)\u001b[0m\n\u001b[0;32m     <a href='file:///d%3A/School/Machine%20learning/blinkin/notebooks/../src/data/make_sliced_eeg_data.py?line=32'>33</a>\u001b[0m \u001b[39mprint\u001b[39m(\u001b[39mtype\u001b[39m(\u001b[39mself\u001b[39m\u001b[39m.\u001b[39mhorizon))\n\u001b[0;32m     <a href='file:///d%3A/School/Machine%20learning/blinkin/notebooks/../src/data/make_sliced_eeg_data.py?line=33'>34</a>\u001b[0m \u001b[39mprint\u001b[39m(\u001b[39mtype\u001b[39m(\u001b[39mself\u001b[39m\u001b[39m.\u001b[39mdataset))\n\u001b[1;32m---> <a href='file:///d%3A/School/Machine%20learning/blinkin/notebooks/../src/data/make_sliced_eeg_data.py?line=34'>35</a>\u001b[0m x \u001b[39m=\u001b[39m \u001b[39mself\u001b[39;49m\u001b[39m.\u001b[39;49mdataset[:\u001b[39m-\u001b[39;49m\u001b[39mself\u001b[39;49m\u001b[39m.\u001b[39;49mhorizon, :]\n\u001b[0;32m     <a href='file:///d%3A/School/Machine%20learning/blinkin/notebooks/../src/data/make_sliced_eeg_data.py?line=35'>36</a>\u001b[0m \u001b[39m# squeeze will remove dimension -1 if possible.\u001b[39;00m\n\u001b[0;32m     <a href='file:///d%3A/School/Machine%20learning/blinkin/notebooks/../src/data/make_sliced_eeg_data.py?line=36'>37</a>\u001b[0m y \u001b[39m=\u001b[39m \u001b[39mself\u001b[39m\u001b[39m.\u001b[39mdataset[\u001b[39m-\u001b[39m\u001b[39mself\u001b[39m\u001b[39m.\u001b[39mhorizon:, :]\u001b[39m.\u001b[39msqueeze(\u001b[39m-\u001b[39m\u001b[39m1\u001b[39m)\n",
      "\u001b[1;31mTypeError\u001b[0m: list indices must be integers or slices, not tuple"
     ]
    }
   ],
   "source": [
    "dsNew[3]"
   ]
  }
 ],
 "metadata": {
  "interpreter": {
   "hash": "b717f71c673656192d67120db4b173d9f66f897f684497bd1a95a6c53d17ffdb"
  },
  "kernelspec": {
   "display_name": "Python 3.10.4 ('deep-learning-WCNYFuaf-py3.10')",
   "language": "python",
   "name": "python3"
  },
  "language_info": {
   "codemirror_mode": {
    "name": "ipython",
    "version": 3
   },
   "file_extension": ".py",
   "mimetype": "text/x-python",
   "name": "python",
   "nbconvert_exporter": "python",
   "pygments_lexer": "ipython3",
   "version": "3.10.4"
  },
  "orig_nbformat": 4
 },
 "nbformat": 4,
 "nbformat_minor": 2
}

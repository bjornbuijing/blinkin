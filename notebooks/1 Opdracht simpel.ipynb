{
 "cells": [
  {
   "cell_type": "markdown",
   "metadata": {},
   "source": [
    "# Dataset simpel\n",
    "We will explore this dataset: https://archive.ics.uci.edu/ml/datasets/EEG+Eye+State#\n",
    "We will make a dataset and get a simple datareader with data \n",
    "\n"
   ]
  },
  {
   "cell_type": "code",
   "execution_count": 1,
   "metadata": {},
   "outputs": [],
   "source": [
    "%load_ext autoreload\n",
    "%autoreload 2\n",
    "from sys import path\n",
    "import tensorflow as tf\n",
    "from scipy.io import arff\n",
    "\n",
    "path.append('..')"
   ]
  },
  {
   "cell_type": "code",
   "execution_count": 2,
   "metadata": {},
   "outputs": [
    {
     "name": "stderr",
     "output_type": "stream",
     "text": [
      "2022-06-07 09:37:08.376 | INFO     | src.data.make_dataset:get_eeg:23 - Data is downloaded to ../data/raw\\datasets\\eeg.\n",
      "2022-06-07 09:37:08.377 | INFO     | src.data.make_dataset:get_eeg_data:30 - ..\\data\\raw\\datasets\\eeg already exists, skipping download\n"
     ]
    }
   ],
   "source": [
    "from src.data.make_dataset import get_eeg\n",
    "datapath = get_eeg(data_dir=\"../data/raw\")\n",
    "path = \"../data/raw\"\n",
    "from src.data.make_dataset import get_eeg_data\n",
    "data = get_eeg_data(datapath)"
   ]
  },
  {
   "cell_type": "code",
   "execution_count": 8,
   "metadata": {},
   "outputs": [
    {
     "ename": "IndexError",
     "evalue": "invalid index of a 0-dim tensor. Use `tensor.item()` in Python or `tensor.item<T>()` in C++ to convert a 0-dim tensor to a number",
     "output_type": "error",
     "traceback": [
      "\u001b[1;31m---------------------------------------------------------------------------\u001b[0m",
      "\u001b[1;31mIndexError\u001b[0m                                Traceback (most recent call last)",
      "\u001b[1;32md:\\School\\Machine learning\\blinkin\\notebooks\\Opdracht simpel.ipynb Cell 4'\u001b[0m in \u001b[0;36m<cell line: 5>\u001b[1;34m()\u001b[0m\n\u001b[0;32m      <a href='vscode-notebook-cell:/d%3A/School/Machine%20learning/blinkin/notebooks/Opdracht%20simpel.ipynb#ch0000003?line=2'>3</a>\u001b[0m dsNew \u001b[39m=\u001b[39m EEGListDataset(data\u001b[39m=\u001b[39mdata[\u001b[39m0\u001b[39m]\u001b[39m.\u001b[39mtolist())\n\u001b[0;32m      <a href='vscode-notebook-cell:/d%3A/School/Machine%20learning/blinkin/notebooks/Opdracht%20simpel.ipynb#ch0000003?line=3'>4</a>\u001b[0m x,y \u001b[39m=\u001b[39m dsNew[\u001b[39m12000\u001b[39m]\n\u001b[1;32m----> <a href='vscode-notebook-cell:/d%3A/School/Machine%20learning/blinkin/notebooks/Opdracht%20simpel.ipynb#ch0000003?line=4'>5</a>\u001b[0m y[\u001b[39m0\u001b[39;49m]\n",
      "\u001b[1;31mIndexError\u001b[0m: invalid index of a 0-dim tensor. Use `tensor.item()` in Python or `tensor.item<T>()` in C++ to convert a 0-dim tensor to a number"
     ]
    }
   ],
   "source": [
    "from src.data.make_eeg_data import EEGListDataset\n",
    "\n",
    "dsNew = EEGListDataset(data=data[0].tolist())\n",
    "x,y = dsNew[12000]\n"
   ]
  },
  {
   "cell_type": "code",
   "execution_count": null,
   "metadata": {},
   "outputs": [],
   "source": []
  }
 ],
 "metadata": {
  "interpreter": {
   "hash": "b717f71c673656192d67120db4b173d9f66f897f684497bd1a95a6c53d17ffdb"
  },
  "kernelspec": {
   "display_name": "Python 3.10.4 ('deep-learning-WCNYFuaf-py3.10')",
   "language": "python",
   "name": "python3"
  },
  "language_info": {
   "codemirror_mode": {
    "name": "ipython",
    "version": 3
   },
   "file_extension": ".py",
   "mimetype": "text/x-python",
   "name": "python",
   "nbconvert_exporter": "python",
   "pygments_lexer": "ipython3",
   "version": "3.10.4"
  },
  "orig_nbformat": 4
 },
 "nbformat": 4,
 "nbformat_minor": 2
}

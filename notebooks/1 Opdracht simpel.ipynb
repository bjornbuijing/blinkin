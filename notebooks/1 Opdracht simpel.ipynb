{
 "cells": [
  {
   "cell_type": "markdown",
   "metadata": {},
   "source": [
    "# Dataset simpel\n",
    "lets start by simple iterating through the dataset from : https://archive.ics.uci.edu/ml/datasets/EEG+Eye+State#\n",
    "We will use this to base further work on\n",
    "\n"
   ]
  },
  {
   "cell_type": "code",
   "execution_count": 1,
   "metadata": {},
   "outputs": [
    {
     "name": "stderr",
     "output_type": "stream",
     "text": [
      "2022-06-09 20:42:31.880175: W tensorflow/stream_executor/platform/default/dso_loader.cc:64] Could not load dynamic library 'libcudart.so.11.0'; dlerror: libcudart.so.11.0: cannot open shared object file: No such file or directory\n",
      "2022-06-09 20:42:31.880209: I tensorflow/stream_executor/cuda/cudart_stub.cc:29] Ignore above cudart dlerror if you do not have a GPU set up on your machine.\n"
     ]
    }
   ],
   "source": [
    "%load_ext autoreload\n",
    "%autoreload 2\n",
    "from sys import path\n",
    "import tensorflow as tf\n",
    "from scipy.io import arff\n",
    "\n",
    "path.append('..')"
   ]
  },
  {
   "cell_type": "markdown",
   "metadata": {},
   "source": [
    "First make a simple dataset"
   ]
  },
  {
   "cell_type": "code",
   "execution_count": 2,
   "metadata": {},
   "outputs": [
    {
     "name": "stdout",
     "output_type": "stream",
     "text": [
      "Downloading data from https://archive.ics.uci.edu/ml/machine-learning-databases/00264/EEG%20Eye%20State.arff\n",
      "1703936/1696428 [==============================] - 1s 1us/step\n",
      "1712128/1696428 [==============================] - 1s 1us/step\n"
     ]
    },
    {
     "name": "stderr",
     "output_type": "stream",
     "text": [
      "2022-06-09 20:42:53.611 | INFO     | src.data.make_dataset:get_eeg:27 - Data is downloaded to /tmp/.keras/datasets/eeg.\n",
      "2022-06-09 20:42:53.612 | INFO     | src.data.make_dataset:get_eeg_data:34 - /tmp/.keras/datasets/eeg already exists, skipping download\n"
     ]
    }
   ],
   "source": [
    "from src.data.make_dataset import get_eeg\n",
    "datapath = get_eeg(data_dir=\"../data/raw\")\n",
    "path = \"../data/raw\"\n",
    "from src.data.make_dataset import get_eeg_data\n",
    "data = get_eeg_data(datapath)"
   ]
  },
  {
   "cell_type": "markdown",
   "metadata": {},
   "source": [
    "let's check the dataset"
   ]
  },
  {
   "cell_type": "code",
   "execution_count": 3,
   "metadata": {},
   "outputs": [],
   "source": [
    "# simple data set with data\n",
    "from src.data.make_eeg_data import EEGListDataset\n",
    "dsNew = EEGListDataset(data=data[0].tolist())\n",
    "x,y = dsNew[12000]\n"
   ]
  },
  {
   "cell_type": "markdown",
   "metadata": {},
   "source": [
    "let's implement a simple iterator"
   ]
  },
  {
   "cell_type": "code",
   "execution_count": 4,
   "metadata": {},
   "outputs": [],
   "source": [
    "class BaseIterator:\n",
    "  def __init__(self, data, n: int):\n",
    "    self.n = n\n",
    "    # we generate some dummy data\n",
    "    self.data = data\n",
    "\n",
    "  def __iter__(self):\n",
    "    # startindex; this makes the first index 0\n",
    "    self.idx = -1\n",
    "    # we return the full object when iter() is called\n",
    "    return self\n",
    "\n",
    "  def __next__(self):\n",
    "    # for every iteration, __next__ is called\n",
    "    # as long as the idx is not bigger than the data\n",
    "    # we need to do -1, because we will increase idx directly after this\n",
    "    if self.idx < len(self.data) - 1:\n",
    "      self.idx += 1\n",
    "      return self.data[self.idx]\n",
    "    else:\n",
    "      raise StopIteration\n",
    "\n",
    "myclass = BaseIterator(dsNew, n=5)\n",
    "myiter = iter(myclass) # this calles the __iter__ method and sets idx to -1\n",
    "\n"
   ]
  },
  {
   "cell_type": "markdown",
   "metadata": {},
   "source": [
    "And presto, we can "
   ]
  },
  {
   "cell_type": "code",
   "execution_count": 10,
   "metadata": {},
   "outputs": [
    {
     "name": "stdout",
     "output_type": "stream",
     "text": [
      "tensor([4360.5100, 4055.3800, 4291.2800, 4140.5100, 4340.5100, 4621.5400,\n",
      "        4082.0500, 4615.9000, 4204.6200, 4231.7900, 4222.0500, 4295.3800,\n",
      "        4613.3300, 4429.2300], dtype=torch.float64)\n",
      "tensor(1)\n",
      "tensor([4378.9700, 4076.9200, 4301.0300, 4155.3800, 4344.1000, 4615.3800,\n",
      "        4078.9700, 4612.8200, 4201.5400, 4232.8200, 4229.2300, 4302.5600,\n",
      "        4623.5900, 4448.7200], dtype=torch.float64)\n",
      "tensor(1)\n",
      "tensor([4401.5400, 4097.4400, 4312.8200, 4168.2100, 4346.1500, 4603.5900,\n",
      "        4075.3800, 4606.1500, 4192.3100, 4234.3600, 4235.3800, 4315.9000,\n",
      "        4631.7900, 4465.6400], dtype=torch.float64)\n",
      "tensor(1)\n",
      "tensor([4409.7400, 4106.6700, 4315.9000, 4170.7700, 4344.1000, 4597.9500,\n",
      "        4067.6900, 4596.9200, 4176.9200, 4222.5600, 4228.2100, 4321.5400,\n",
      "        4618.9700, 4464.6200], dtype=torch.float64)\n",
      "tensor(1)\n"
     ]
    }
   ],
   "source": [
    "for x in range(0,4): # this calls the __next__ method\n",
    "  x,y = myiter.__next__()\n",
    "  print(x)\n",
    "  print(y)"
   ]
  }
 ],
 "metadata": {
  "interpreter": {
   "hash": "16b8f312320cd240106b9ea4d318428341e8727b3c7d5fc1f73cfe4a3d9868ce"
  },
  "kernelspec": {
   "display_name": "Python 3.9.12 ('deep-learning-E14Cnx23-py3.9': poetry)",
   "language": "python",
   "name": "python3"
  },
  "language_info": {
   "codemirror_mode": {
    "name": "ipython",
    "version": 3
   },
   "file_extension": ".py",
   "mimetype": "text/x-python",
   "name": "python",
   "nbconvert_exporter": "python",
   "pygments_lexer": "ipython3",
   "version": "3.9.12"
  },
  "orig_nbformat": 4
 },
 "nbformat": 4,
 "nbformat_minor": 2
}

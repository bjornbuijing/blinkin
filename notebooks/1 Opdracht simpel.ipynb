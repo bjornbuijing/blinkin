{
 "cells": [
  {
   "cell_type": "markdown",
   "metadata": {},
   "source": [
    "# Dataset simpel\n",
    "lets start by simple iterating through the dataset from : https://archive.ics.uci.edu/ml/datasets/EEG+Eye+State#\n",
    "We will use this to base further work on\n",
    "\n"
   ]
  },
  {
   "cell_type": "code",
   "execution_count": 11,
   "metadata": {},
   "outputs": [
    {
     "name": "stdout",
     "output_type": "stream",
     "text": [
      "The autoreload extension is already loaded. To reload it, use:\n",
      "  %reload_ext autoreload\n"
     ]
    }
   ],
   "source": [
    "%load_ext autoreload\n",
    "%autoreload 2\n",
    "from sys import path\n",
    "import tensorflow as tf\n",
    "from scipy.io import arff\n",
    "\n",
    "path.append('..')"
   ]
  },
  {
   "cell_type": "markdown",
   "metadata": {},
   "source": [
    "First make a simple dataset"
   ]
  },
  {
   "cell_type": "code",
   "execution_count": 12,
   "metadata": {},
   "outputs": [
    {
     "name": "stderr",
     "output_type": "stream",
     "text": [
      "2022-06-13 20:25:57.990 | INFO     | src.data.make_dataset:get_eeg:27 - Data is downloaded to /tmp/.keras/datasets/eeg.\n",
      "2022-06-13 20:25:57.991 | INFO     | src.data.make_dataset:get_eeg_data:34 - /tmp/.keras/datasets/eeg already exists, skipping download\n"
     ]
    }
   ],
   "source": [
    "from src.data.make_dataset import get_eeg\n",
    "datapath = get_eeg(data_dir=\"../data/raw\")\n",
    "path = \"../data/raw\"\n",
    "from src.data.make_dataset import get_eeg_data\n",
    "data = get_eeg_data(datapath)"
   ]
  },
  {
   "cell_type": "markdown",
   "metadata": {},
   "source": [
    "let's check the dataset"
   ]
  },
  {
   "cell_type": "code",
   "execution_count": 13,
   "metadata": {},
   "outputs": [],
   "source": [
    "# simple data set with data\n",
    "from src.data.make_eeg_data import EEGListDataset\n",
    "dsNew = EEGListDataset(data=data[0].tolist())\n",
    "x,y = dsNew[12000]\n"
   ]
  },
  {
   "cell_type": "markdown",
   "metadata": {},
   "source": [
    "let's implement a simple iterator"
   ]
  },
  {
   "cell_type": "code",
   "execution_count": 14,
   "metadata": {},
   "outputs": [],
   "source": [
    "class BaseIterator:\n",
    "  def __init__(self, data, n: int):\n",
    "    self.n = n\n",
    "    # we generate some dummy data\n",
    "    self.data = data\n",
    "\n",
    "  def __iter__(self):\n",
    "    # startindex; this makes the first index 0\n",
    "    self.idx = -1\n",
    "    # we return the full object when iter() is called\n",
    "    return self\n",
    "\n",
    "  def __next__(self):\n",
    "    # for every iteration, __next__ is called\n",
    "    # as long as the idx is not bigger than the data\n",
    "    # we need to do -1, because we will increase idx directly after this\n",
    "    if self.idx < len(self.data) - 1:\n",
    "      self.idx += 1\n",
    "      return self.data[self.idx]\n",
    "    else:\n",
    "      raise StopIteration\n",
    "\n",
    "myclass = BaseIterator(dsNew, n=5)\n",
    "myiter = iter(myclass) # this calles the __iter__ method and sets idx to -1\n",
    "\n"
   ]
  },
  {
   "cell_type": "markdown",
   "metadata": {},
   "source": [
    "And presto, we can iterate data!"
   ]
  },
  {
   "cell_type": "code",
   "execution_count": 15,
   "metadata": {},
   "outputs": [
    {
     "name": "stdout",
     "output_type": "stream",
     "text": [
      "tensor([4329.2300, 4009.2300, 4289.2300, 4148.2100, 4350.2600, 4586.1500,\n",
      "        4096.9200, 4641.0300, 4222.0500, 4238.4600, 4211.2800, 4280.5100,\n",
      "        4635.9000, 4393.8500], dtype=torch.float64)\n",
      "tensor(0)\n",
      "tensor([4324.6200, 4004.6200, 4293.8500, 4148.7200, 4342.0500, 4586.6700,\n",
      "        4097.4400, 4638.9700, 4210.7700, 4226.6700, 4207.6900, 4279.4900,\n",
      "        4632.8200, 4384.1000], dtype=torch.float64)\n",
      "tensor(0)\n",
      "tensor([4327.6900, 4006.6700, 4295.3800, 4156.4100, 4336.9200, 4583.5900,\n",
      "        4096.9200, 4630.2600, 4207.6900, 4222.0500, 4206.6700, 4282.0500,\n",
      "        4628.7200, 4389.2300], dtype=torch.float64)\n",
      "tensor(0)\n",
      "tensor([4328.7200, 4011.7900, 4296.4100, 4155.9000, 4343.5900, 4582.5600,\n",
      "        4097.4400, 4630.7700, 4217.4400, 4235.3800, 4210.7700, 4287.6900,\n",
      "        4632.3100, 4396.4100], dtype=torch.float64)\n",
      "tensor(0)\n"
     ]
    }
   ],
   "source": [
    "for x in range(0,4): # this calls the __next__ method\n",
    "  x,y = myiter.__next__()\n",
    "  print(x)\n",
    "  print(y)"
   ]
  }
 ],
 "metadata": {
  "interpreter": {
   "hash": "16b8f312320cd240106b9ea4d318428341e8727b3c7d5fc1f73cfe4a3d9868ce"
  },
  "kernelspec": {
   "display_name": "Python 3.9.12 ('deep-learning-E14Cnx23-py3.9': poetry)",
   "language": "python",
   "name": "python3"
  },
  "language_info": {
   "codemirror_mode": {
    "name": "ipython",
    "version": 3
   },
   "file_extension": ".py",
   "mimetype": "text/x-python",
   "name": "python",
   "nbconvert_exporter": "python",
   "pygments_lexer": "ipython3",
   "version": "3.9.12"
  },
  "orig_nbformat": 4
 },
 "nbformat": 4,
 "nbformat_minor": 2
}
